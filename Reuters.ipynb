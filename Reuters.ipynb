{
  "nbformat": 4,
  "nbformat_minor": 0,
  "metadata": {
    "colab": {
      "provenance": [],
      "authorship_tag": "ABX9TyNoRyPmJDZfMqpgPigWk3Hd",
      "include_colab_link": true
    },
    "kernelspec": {
      "name": "python3",
      "display_name": "Python 3"
    },
    "language_info": {
      "name": "python"
    }
  },
  "cells": [
    {
      "cell_type": "markdown",
      "metadata": {
        "id": "view-in-github",
        "colab_type": "text"
      },
      "source": [
        "<a href=\"https://colab.research.google.com/github/TriggerRao/ML_datasets/blob/main/Reuters.ipynb\" target=\"_parent\"><img src=\"https://colab.research.google.com/assets/colab-badge.svg\" alt=\"Open In Colab\"/></a>"
      ]
    },
    {
      "cell_type": "code",
      "source": [
        "from tensorflow import keras\n",
        "from keras.datasets import reuters\n",
        "import numpy as np\n",
        "from keras import models\n",
        "from keras import layers\n",
        "import matplotlib.pyplot as plt"
      ],
      "metadata": {
        "id": "8Ligxy0aVji3"
      },
      "execution_count": 1,
      "outputs": []
    },
    {
      "cell_type": "code",
      "source": [
        "(train_data, train_labels), (test_data, test_labels) = reuters.load_data(num_words = 10000)"
      ],
      "metadata": {
        "id": "Yrg2PmiGWTd3",
        "colab": {
          "base_uri": "https://localhost:8080/"
        },
        "outputId": "0e623415-1265-4653-c85e-830b3b14589c"
      },
      "execution_count": 2,
      "outputs": [
        {
          "output_type": "stream",
          "name": "stdout",
          "text": [
            "Downloading data from https://storage.googleapis.com/tensorflow/tf-keras-datasets/reuters.npz\n",
            "2110848/2110848 [==============================] - 1s 0us/step\n"
          ]
        }
      ]
    },
    {
      "cell_type": "code",
      "source": [
        "# word_index = reuters.get_word_index()                #converts back the data indices to the actual sentence\n",
        "# reverse_word_index = dict(\n",
        "#     [(value, key) for (key, value) in word_index.items()])\n",
        "# decoded_newswire = \" \".join(\n",
        "#     [reverse_word_index.get(i-3, \"? \") for i in train_data[0]])     #starts from 3 as 1 for padding, 2 for start of sequence and 3 for unknown"
      ],
      "metadata": {
        "id": "12rpaqozWn4W"
      },
      "execution_count": 3,
      "outputs": []
    },
    {
      "cell_type": "code",
      "source": [
        "def vectorize_sequences(sequences, dimension=10000):\n",
        "  results = np.zeros((len(sequences), dimension))\n",
        "  for i, sequence in enumerate(sequences) :\n",
        "    results[i, sequence] = 1.0\n",
        "  return results\n",
        "x_train = vectorize_sequences(train_data)       #vectorize the data using multi hot encoding\n",
        "x_test = vectorize_sequences(test_data)"
      ],
      "metadata": {
        "id": "-eZFjAzKXjt2"
      },
      "execution_count": 4,
      "outputs": []
    },
    {
      "cell_type": "code",
      "source": [
        "# def to_one_hot(labels, dimension = 46) :\n",
        "#   results = np.zeros((len(labels), dimension))\n",
        "#   for i, label in enumerate(labels):\n",
        "#     results[i, label] = 1\n",
        "#   return results              #one hot encodes labels\n",
        "# y_train = to_one_hot(train_labels)\n",
        "# y_test = to_one_hot(test_labels)"
      ],
      "metadata": {
        "id": "2Qh2WXp_YtMe"
      },
      "execution_count": 5,
      "outputs": []
    },
    {
      "cell_type": "code",
      "source": [
        "from keras.utils import to_categorical\n",
        "y_train = to_categorical(train_labels)\n",
        "y_test = to_categorical(test_labels)          #another easier way to do the same thing as the abve block of code"
      ],
      "metadata": {
        "id": "7HmOb9T7alaH"
      },
      "execution_count": 6,
      "outputs": []
    },
    {
      "cell_type": "code",
      "source": [
        "from keras import Sequential\n",
        "model = keras.Sequential([\n",
        "    layers.Dense(64, activation =\"relu\"),\n",
        "    layers.Dense(64, activation =\"relu\"),\n",
        "    layers.Dense(46, activation =\"softmax\")     #softmax as multiple classification\n",
        "])"
      ],
      "metadata": {
        "id": "9XQW5z2Ba_f_"
      },
      "execution_count": 7,
      "outputs": []
    },
    {
      "cell_type": "code",
      "source": [
        "model.compile(optimizer=\"rmsprop\",\n",
        "              loss=\"categorical_crossentropy\",\n",
        "              metrics=[\"accuracy\"])"
      ],
      "metadata": {
        "id": "8QWSFZPbbvC_"
      },
      "execution_count": 8,
      "outputs": []
    },
    {
      "cell_type": "code",
      "source": [
        "x_val = x_train[:1000]            #choosing first 1000 examples for validation\n",
        "partial_x_train = x_train[1000:]  #remaining sample for training\n",
        "y_val = y_train[:1000]\n",
        "partial_y_train = y_train[1000:]"
      ],
      "metadata": {
        "id": "6tIKn2n9cYmu"
      },
      "execution_count": 9,
      "outputs": []
    },
    {
      "cell_type": "code",
      "source": [
        "history = model.fit(partial_x_train, partial_y_train,\n",
        "                    epochs = 20, batch_size = 512,\n",
        "                    validation_data = (x_val, y_val))"
      ],
      "metadata": {
        "colab": {
          "base_uri": "https://localhost:8080/"
        },
        "id": "PrbK4uRlcq12",
        "outputId": "2b1015c4-7513-40a9-fe58-53d384b65265"
      },
      "execution_count": 10,
      "outputs": [
        {
          "output_type": "stream",
          "name": "stdout",
          "text": [
            "Epoch 1/20\n",
            "16/16 [==============================] - 2s 72ms/step - loss: 2.7086 - accuracy: 0.4851 - val_loss: 1.8013 - val_accuracy: 0.6230\n",
            "Epoch 2/20\n",
            "16/16 [==============================] - 1s 86ms/step - loss: 1.5093 - accuracy: 0.6768 - val_loss: 1.3594 - val_accuracy: 0.6870\n",
            "Epoch 3/20\n",
            "16/16 [==============================] - 1s 81ms/step - loss: 1.1651 - accuracy: 0.7456 - val_loss: 1.2002 - val_accuracy: 0.7330\n",
            "Epoch 4/20\n",
            "16/16 [==============================] - 1s 51ms/step - loss: 0.9593 - accuracy: 0.7918 - val_loss: 1.0779 - val_accuracy: 0.7660\n",
            "Epoch 5/20\n",
            "16/16 [==============================] - 1s 80ms/step - loss: 0.7994 - accuracy: 0.8232 - val_loss: 1.0116 - val_accuracy: 0.7770\n",
            "Epoch 6/20\n",
            "16/16 [==============================] - 1s 82ms/step - loss: 0.6679 - accuracy: 0.8550 - val_loss: 0.9870 - val_accuracy: 0.7810\n",
            "Epoch 7/20\n",
            "16/16 [==============================] - 1s 73ms/step - loss: 0.5615 - accuracy: 0.8763 - val_loss: 0.9462 - val_accuracy: 0.7940\n",
            "Epoch 8/20\n",
            "16/16 [==============================] - 1s 47ms/step - loss: 0.4673 - accuracy: 0.9010 - val_loss: 0.8827 - val_accuracy: 0.8210\n",
            "Epoch 9/20\n",
            "16/16 [==============================] - 1s 49ms/step - loss: 0.3987 - accuracy: 0.9171 - val_loss: 0.8749 - val_accuracy: 0.8150\n",
            "Epoch 10/20\n",
            "16/16 [==============================] - 1s 73ms/step - loss: 0.3354 - accuracy: 0.9282 - val_loss: 0.8555 - val_accuracy: 0.8230\n",
            "Epoch 11/20\n",
            "16/16 [==============================] - 1s 77ms/step - loss: 0.2947 - accuracy: 0.9356 - val_loss: 0.8797 - val_accuracy: 0.8130\n",
            "Epoch 12/20\n",
            "16/16 [==============================] - 1s 72ms/step - loss: 0.2516 - accuracy: 0.9427 - val_loss: 0.8959 - val_accuracy: 0.8120\n",
            "Epoch 13/20\n",
            "16/16 [==============================] - 1s 47ms/step - loss: 0.2269 - accuracy: 0.9478 - val_loss: 0.9131 - val_accuracy: 0.8060\n",
            "Epoch 14/20\n",
            "16/16 [==============================] - 1s 46ms/step - loss: 0.1994 - accuracy: 0.9504 - val_loss: 0.9140 - val_accuracy: 0.8050\n",
            "Epoch 15/20\n",
            "16/16 [==============================] - 1s 50ms/step - loss: 0.1822 - accuracy: 0.9525 - val_loss: 0.8877 - val_accuracy: 0.8210\n",
            "Epoch 16/20\n",
            "16/16 [==============================] - 1s 47ms/step - loss: 0.1672 - accuracy: 0.9543 - val_loss: 0.9357 - val_accuracy: 0.8080\n",
            "Epoch 17/20\n",
            "16/16 [==============================] - 1s 51ms/step - loss: 0.1569 - accuracy: 0.9560 - val_loss: 0.9152 - val_accuracy: 0.8140\n",
            "Epoch 18/20\n",
            "16/16 [==============================] - 1s 49ms/step - loss: 0.1419 - accuracy: 0.9569 - val_loss: 0.9544 - val_accuracy: 0.8080\n",
            "Epoch 19/20\n",
            "16/16 [==============================] - 1s 86ms/step - loss: 0.1422 - accuracy: 0.9554 - val_loss: 0.9525 - val_accuracy: 0.8190\n",
            "Epoch 20/20\n",
            "16/16 [==============================] - 1s 82ms/step - loss: 0.1357 - accuracy: 0.9558 - val_loss: 0.9667 - val_accuracy: 0.8130\n"
          ]
        }
      ]
    },
    {
      "cell_type": "code",
      "source": [
        "loss = history.history[\"loss\"]\n",
        "val_loss = history.history[\"val_loss\"]\n",
        "epochs = range(1, len(loss)+1)\n",
        "plt.plot(epochs, loss, \"bo\", label=\"Training loss\")\n",
        "plt.plot(epochs, val_loss, \"b\", label=\"Validation loss\")\n",
        "plt.title(\"Training and validation loss\")\n",
        "plt.xlabel(\"Epochs\")\n",
        "plt.ylabel(\"Loss\")        #calculates training and validation loss for the model\n",
        "plt.legend()\n",
        "plt.show()"
      ],
      "metadata": {
        "colab": {
          "base_uri": "https://localhost:8080/",
          "height": 472
        },
        "id": "6KMTxSa9dGvn",
        "outputId": "6a936b15-fd43-4763-e186-e2610d158514"
      },
      "execution_count": 11,
      "outputs": [
        {
          "output_type": "display_data",
          "data": {
            "text/plain": [
              "<Figure size 640x480 with 1 Axes>"
            ],
            "image/png": "[encoded data removed]"
          },
          "metadata": {}
        }
      ]
    },
    {
      "cell_type": "code",
      "source": [
        "plt.clf()\n",
        "acc = history.history[\"accuracy\"]\n",
        "val_acc = history.history[\"val_accuracy\"]\n",
        "plt.plot(epochs, acc, \"bo\", label=\"Training accuracy\")\n",
        "plt.plot(epochs, val_acc, \"b\", label=\"Validation accuracy\")\n",
        "plt.title(\"Training and validation accuracy\")\n",
        "plt.xlabel(\"Epochs\")\n",
        "plt.ylabel(\"Accuracy\")          #calculates training and validation accuracy for the model\n",
        "plt.legend()\n",
        "plt.show()"
      ],
      "metadata": {
        "id": "IPD4rVlod0Tf",
        "colab": {
          "base_uri": "https://localhost:8080/",
          "height": 472
        },
        "outputId": "9ecde56c-cf1f-4a5e-cac2-d764cc186060"
      },
      "execution_count": 12,
      "outputs": [
        {
          "output_type": "display_data",
          "data": {
            "text/plain": [
              "<Figure size 640x480 with 1 Axes>"
            ],
            "image/png": "[encoded data removed]"
          },
          "metadata": {}
        }
      ]
    },
    {
      "cell_type": "code",
      "source": [
        "model = keras.Sequential([\n",
        "  layers.Dense(64, activation=\"relu\"),\n",
        "  layers.Dense(64, activation=\"relu\"),\n",
        "  layers.Dense(46, activation=\"softmax\")\n",
        "])\n",
        "\n",
        "model.compile(optimizer=\"rmsprop\",\n",
        "              loss=\"categorical_crossentropy\",\n",
        "              metrics=[\"accuracy\"])\n",
        "model.fit(x_train,\n",
        "          y_train,\n",
        "          epochs=9,\n",
        "          batch_size=512)\n",
        "results = model.evaluate(x_test, y_test)"
      ],
      "metadata": {
        "colab": {
          "base_uri": "https://localhost:8080/"
        },
        "id": "vOd-wXPc1L-6",
        "outputId": "6fda7c35-9c3d-458f-e45f-e3391eeadccb"
      },
      "execution_count": 13,
      "outputs": [
        {
          "output_type": "stream",
          "name": "stdout",
          "text": [
            "Epoch 1/9\n",
            "18/18 [==============================] - 4s 143ms/step - loss: 2.5028 - accuracy: 0.5426\n",
            "Epoch 2/9\n",
            "18/18 [==============================] - 2s 122ms/step - loss: 1.4143 - accuracy: 0.6941\n",
            "Epoch 3/9\n",
            "18/18 [==============================] - 1s 67ms/step - loss: 1.0953 - accuracy: 0.7622\n",
            "Epoch 4/9\n",
            "18/18 [==============================] - 2s 101ms/step - loss: 0.8903 - accuracy: 0.8101\n",
            "Epoch 5/9\n",
            "18/18 [==============================] - 2s 100ms/step - loss: 0.7324 - accuracy: 0.8405\n",
            "Epoch 6/9\n",
            "18/18 [==============================] - 2s 125ms/step - loss: 0.6050 - accuracy: 0.8720\n",
            "Epoch 7/9\n",
            "18/18 [==============================] - 2s 134ms/step - loss: 0.5030 - accuracy: 0.8945\n",
            "Epoch 8/9\n",
            "18/18 [==============================] - 1s 68ms/step - loss: 0.4206 - accuracy: 0.9105\n",
            "Epoch 9/9\n",
            "18/18 [==============================] - 1s 79ms/step - loss: 0.3546 - accuracy: 0.9245\n",
            "71/71 [==============================] - 1s 4ms/step - loss: 0.9018 - accuracy: 0.7943\n"
          ]
        }
      ]
    },
    {
      "cell_type": "code",
      "source": [
        "results     #reaches a accuracy of ~80%"
      ],
      "metadata": {
        "colab": {
          "base_uri": "https://localhost:8080/"
        },
        "id": "VPpVHPWm2R90",
        "outputId": "c3988a45-32f4-48e1-9149-d78628fab32f"
      },
      "execution_count": 15,
      "outputs": [
        {
          "output_type": "execute_result",
          "data": {
            "text/plain": [
              "[0.9018305540084839, 0.7943009734153748]"
            ]
          },
          "metadata": {},
          "execution_count": 15
        }
      ]
    },
    {
      "cell_type": "code",
      "source": [
        "import copy\n",
        "test_labels_copy = copy.copy(test_labels)\n",
        "np.random.shuffle(test_labels_copy)\n",
        "hits_array = np.array(test_labels) == np.array(test_labels_copy)\n",
        "hits_array.mean()"
      ],
      "metadata": {
        "colab": {
          "base_uri": "https://localhost:8080/"
        },
        "id": "B3HQzu952Y5n",
        "outputId": "7abadaf0-0309-48f9-8f1f-c5b1936027ed"
      },
      "execution_count": 16,
      "outputs": [
        {
          "output_type": "execute_result",
          "data": {
            "text/plain": [
              "0.18521816562778273"
            ]
          },
          "metadata": {},
          "execution_count": 16
        }
      ]
    },
    {
      "cell_type": "code",
      "source": [
        "prediction = model.predict(x_test)\n",
        "prediction[0].shape"
      ],
      "metadata": {
        "colab": {
          "base_uri": "https://localhost:8080/"
        },
        "id": "sLqFIAEH3noL",
        "outputId": "e00cc19e-a3ab-4bdf-84a5-f3aef65eb2fa"
      },
      "execution_count": 17,
      "outputs": [
        {
          "output_type": "stream",
          "name": "stdout",
          "text": [
            "71/71 [==============================] - 0s 3ms/step\n"
          ]
        },
        {
          "output_type": "execute_result",
          "data": {
            "text/plain": [
              "(46,)"
            ]
          },
          "metadata": {},
          "execution_count": 17
        }
      ]
    },
    {
      "cell_type": "code",
      "source": [
        "###if we do not want to use one hot encoding in the test and train labels,\n",
        "###we can directly convert them into vectors y_train and y_labels but in that case,\n",
        "###we need to use sparse_categorical_crossentropy loss function instead of categorical"
      ],
      "metadata": {
        "id": "WLkKS_cx4IcL"
      },
      "execution_count": 18,
      "outputs": []
    },
    {
      "cell_type": "code",
      "source": [],
      "metadata": {
        "id": "yXuNUC0U5UDn"
      },
      "execution_count": null,
      "outputs": []
    }
  ]
}